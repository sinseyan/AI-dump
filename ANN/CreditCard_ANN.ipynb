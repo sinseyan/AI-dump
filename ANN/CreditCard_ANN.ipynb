{
 "cells": [
  {
   "cell_type": "code",
   "execution_count": 1,
   "metadata": {},
   "outputs": [],
   "source": [
    "import numpy as np\n",
    "import pandas as pd\n",
    "import tensorflow as tf"
   ]
  },
  {
   "cell_type": "code",
   "execution_count": 2,
   "metadata": {},
   "outputs": [],
   "source": [
    "dataset = pd.read_csv('credit_card.csv')\n",
    "X = dataset.iloc[:,1:-1].values\n",
    "y = dataset.iloc[:, -1].values"
   ]
  },
  {
   "cell_type": "code",
   "execution_count": 3,
   "metadata": {
    "scrolled": true
   },
   "outputs": [
    {
     "name": "stdout",
     "output_type": "stream",
     "text": [
      "[[ 20000      2      2 ...      0      0      0]\n",
      " [120000      2      2 ...   1000      0   2000]\n",
      " [ 90000      2      2 ...   1000   1000   5000]\n",
      " ...\n",
      " [ 30000      1      2 ...   4200   2000   3100]\n",
      " [ 80000      1      3 ...   1926  52964   1804]\n",
      " [ 50000      1      2 ...   1000   1000   1000]]\n"
     ]
    }
   ],
   "source": [
    "print(X)"
   ]
  },
  {
   "cell_type": "code",
   "execution_count": 4,
   "metadata": {},
   "outputs": [
    {
     "name": "stdout",
     "output_type": "stream",
     "text": [
      "[1 1 0 ... 1 1 1]\n"
     ]
    }
   ],
   "source": [
    "print(y)"
   ]
  },
  {
   "cell_type": "code",
   "execution_count": 5,
   "metadata": {},
   "outputs": [],
   "source": [
    "X = np.array(X)"
   ]
  },
  {
   "cell_type": "code",
   "execution_count": 6,
   "metadata": {},
   "outputs": [
    {
     "name": "stdout",
     "output_type": "stream",
     "text": [
      "[[ 20000      2      2 ...      0      0      0]\n",
      " [120000      2      2 ...   1000      0   2000]\n",
      " [ 90000      2      2 ...   1000   1000   5000]\n",
      " ...\n",
      " [ 30000      1      2 ...   4200   2000   3100]\n",
      " [ 80000      1      3 ...   1926  52964   1804]\n",
      " [ 50000      1      2 ...   1000   1000   1000]]\n"
     ]
    }
   ],
   "source": [
    "print(X)"
   ]
  },
  {
   "cell_type": "code",
   "execution_count": 7,
   "metadata": {},
   "outputs": [],
   "source": [
    "from sklearn.model_selection import train_test_split\n",
    "X_train, X_test, y_train, y_test = train_test_split(X, y, test_size = 0.2, random_state = 0)"
   ]
  },
  {
   "cell_type": "code",
   "execution_count": 8,
   "metadata": {},
   "outputs": [],
   "source": [
    "from sklearn.preprocessing import StandardScaler\n",
    "sc = StandardScaler()\n",
    "X_train = sc.fit_transform(X_train)\n",
    "X_test = sc.transform(X_test)"
   ]
  },
  {
   "cell_type": "code",
   "execution_count": 9,
   "metadata": {},
   "outputs": [],
   "source": [
    "ann = tf.keras.models.Sequential()"
   ]
  },
  {
   "cell_type": "code",
   "execution_count": 10,
   "metadata": {},
   "outputs": [],
   "source": [
    "ann.add(tf.keras.layers.Dense(units=6, activation='relu'))"
   ]
  },
  {
   "cell_type": "code",
   "execution_count": 11,
   "metadata": {},
   "outputs": [],
   "source": [
    "ann.add(tf.keras.layers.Dense(units=6, activation='relu'))"
   ]
  },
  {
   "cell_type": "code",
   "execution_count": 12,
   "metadata": {},
   "outputs": [],
   "source": [
    "ann.add(tf.keras.layers.Dense(units=1, activation='sigmoid'))"
   ]
  },
  {
   "cell_type": "code",
   "execution_count": 13,
   "metadata": {},
   "outputs": [],
   "source": [
    "ann.compile(optimizer = 'adam', loss = 'binary_crossentropy', metrics = ['accuracy'])"
   ]
  },
  {
   "cell_type": "code",
   "execution_count": 14,
   "metadata": {},
   "outputs": [
    {
     "name": "stdout",
     "output_type": "stream",
     "text": [
      "Epoch 1/100\n",
      "750/750 [==============================] - 1s 947us/step - loss: 0.5640 - accuracy: 0.7366\n",
      "Epoch 2/100\n",
      "750/750 [==============================] - 1s 925us/step - loss: 0.4626 - accuracy: 0.8087\n",
      "Epoch 3/100\n",
      "750/750 [==============================] - 1s 933us/step - loss: 0.4500 - accuracy: 0.8138\n",
      "Epoch 4/100\n",
      "750/750 [==============================] - 1s 981us/step - loss: 0.4469 - accuracy: 0.8159\n",
      "Epoch 5/100\n",
      "750/750 [==============================] - 1s 913us/step - loss: 0.4390 - accuracy: 0.8206\n",
      "Epoch 6/100\n",
      "750/750 [==============================] - 1s 985us/step - loss: 0.4474 - accuracy: 0.8136\n",
      "Epoch 7/100\n",
      "750/750 [==============================] - 1s 1ms/step - loss: 0.4388 - accuracy: 0.8178\n",
      "Epoch 8/100\n",
      "750/750 [==============================] - 1s 976us/step - loss: 0.4398 - accuracy: 0.8178\n",
      "Epoch 9/100\n",
      "750/750 [==============================] - 1s 964us/step - loss: 0.4389 - accuracy: 0.8174\n",
      "Epoch 10/100\n",
      "750/750 [==============================] - 1s 900us/step - loss: 0.4279 - accuracy: 0.8254\n",
      "Epoch 11/100\n",
      "750/750 [==============================] - 1s 1ms/step - loss: 0.4310 - accuracy: 0.8223\n",
      "Epoch 12/100\n",
      "750/750 [==============================] - 1s 957us/step - loss: 0.4349 - accuracy: 0.8192\n",
      "Epoch 13/100\n",
      "750/750 [==============================] - 1s 915us/step - loss: 0.4371 - accuracy: 0.8175\n",
      "Epoch 14/100\n",
      "750/750 [==============================] - 1s 988us/step - loss: 0.4311 - accuracy: 0.8226\n",
      "Epoch 15/100\n",
      "750/750 [==============================] - 1s 957us/step - loss: 0.4261 - accuracy: 0.8232\n",
      "Epoch 16/100\n",
      "750/750 [==============================] - 1s 955us/step - loss: 0.4314 - accuracy: 0.8221\n",
      "Epoch 17/100\n",
      "750/750 [==============================] - 1s 953us/step - loss: 0.4397 - accuracy: 0.8147\n",
      "Epoch 18/100\n",
      "750/750 [==============================] - 1s 1ms/step - loss: 0.4310 - accuracy: 0.8212\n",
      "Epoch 19/100\n",
      "750/750 [==============================] - 1s 973us/step - loss: 0.4387 - accuracy: 0.8155\n",
      "Epoch 20/100\n",
      "750/750 [==============================] - 1s 935us/step - loss: 0.4398 - accuracy: 0.8139\n",
      "Epoch 21/100\n",
      "750/750 [==============================] - 1s 961us/step - loss: 0.4368 - accuracy: 0.8174\n",
      "Epoch 22/100\n",
      "750/750 [==============================] - 1s 933us/step - loss: 0.4400 - accuracy: 0.8160\n",
      "Epoch 23/100\n",
      "750/750 [==============================] - 1s 924us/step - loss: 0.4337 - accuracy: 0.8180\n",
      "Epoch 24/100\n",
      "750/750 [==============================] - 1s 905us/step - loss: 0.4298 - accuracy: 0.8203\n",
      "Epoch 25/100\n",
      "750/750 [==============================] - 1s 943us/step - loss: 0.4267 - accuracy: 0.8222\n",
      "Epoch 26/100\n",
      "750/750 [==============================] - 1s 925us/step - loss: 0.4370 - accuracy: 0.8133\n",
      "Epoch 27/100\n",
      "750/750 [==============================] - 1s 885us/step - loss: 0.4408 - accuracy: 0.8130\n",
      "Epoch 28/100\n",
      "750/750 [==============================] - 1s 1ms/step - loss: 0.4329 - accuracy: 0.8182\n",
      "Epoch 29/100\n",
      "750/750 [==============================] - 1s 1ms/step - loss: 0.4307 - accuracy: 0.8204\n",
      "Epoch 30/100\n",
      "750/750 [==============================] - 1s 952us/step - loss: 0.4376 - accuracy: 0.8171\n",
      "Epoch 31/100\n",
      "750/750 [==============================] - 1s 915us/step - loss: 0.4327 - accuracy: 0.8197\n",
      "Epoch 32/100\n",
      "750/750 [==============================] - 1s 919us/step - loss: 0.4367 - accuracy: 0.8146\n",
      "Epoch 33/100\n",
      "750/750 [==============================] - 1s 917us/step - loss: 0.4294 - accuracy: 0.8214\n",
      "Epoch 34/100\n",
      "750/750 [==============================] - 1s 929us/step - loss: 0.4351 - accuracy: 0.8184\n",
      "Epoch 35/100\n",
      "750/750 [==============================] - 1s 927us/step - loss: 0.4337 - accuracy: 0.8166\n",
      "Epoch 36/100\n",
      "750/750 [==============================] - 1s 933us/step - loss: 0.4406 - accuracy: 0.8126\n",
      "Epoch 37/100\n",
      "750/750 [==============================] - 1s 903us/step - loss: 0.4251 - accuracy: 0.8227\n",
      "Epoch 38/100\n",
      "750/750 [==============================] - 1s 907us/step - loss: 0.4370 - accuracy: 0.8151\n",
      "Epoch 39/100\n",
      "750/750 [==============================] - 1s 921us/step - loss: 0.4315 - accuracy: 0.8190\n",
      "Epoch 40/100\n",
      "750/750 [==============================] - ETA: 0s - loss: 0.4342 - accuracy: 0.8171 ETA: 0s - loss: 0.4360  - 1s 973us/step - loss: 0.4342 - accuracy: 0.8171\n",
      "Epoch 41/100\n",
      "750/750 [==============================] - 1s 963us/step - loss: 0.4343 - accuracy: 0.8183\n",
      "Epoch 42/100\n",
      "750/750 [==============================] - 1s 917us/step - loss: 0.4247 - accuracy: 0.8242\n",
      "Epoch 43/100\n",
      "750/750 [==============================] - 1s 1ms/step - loss: 0.4328 - accuracy: 0.8186\n",
      "Epoch 44/100\n",
      "750/750 [==============================] - 1s 941us/step - loss: 0.4373 - accuracy: 0.81410s - los\n",
      "Epoch 45/100\n",
      "750/750 [==============================] - 1s 935us/step - loss: 0.4343 - accuracy: 0.8164\n",
      "Epoch 46/100\n",
      "750/750 [==============================] - 1s 979us/step - loss: 0.4306 - accuracy: 0.8199\n",
      "Epoch 47/100\n",
      "750/750 [==============================] - 1s 925us/step - loss: 0.4328 - accuracy: 0.8179\n",
      "Epoch 48/100\n",
      "750/750 [==============================] - 1s 1ms/step - loss: 0.4307 - accuracy: 0.8210\n",
      "Epoch 49/100\n",
      "750/750 [==============================] - 1s 945us/step - loss: 0.4277 - accuracy: 0.8205\n",
      "Epoch 50/100\n",
      "750/750 [==============================] - 1s 995us/step - loss: 0.4286 - accuracy: 0.8189\n",
      "Epoch 51/100\n",
      "750/750 [==============================] - 1s 1ms/step - loss: 0.4280 - accuracy: 0.8207\n",
      "Epoch 52/100\n",
      "750/750 [==============================] - 1s 1ms/step - loss: 0.4301 - accuracy: 0.8202\n",
      "Epoch 53/100\n",
      "750/750 [==============================] - 1s 1ms/step - loss: 0.4282 - accuracy: 0.8222\n",
      "Epoch 54/100\n",
      "750/750 [==============================] - 1s 906us/step - loss: 0.4279 - accuracy: 0.8218\n",
      "Epoch 55/100\n",
      "750/750 [==============================] - 1s 915us/step - loss: 0.4353 - accuracy: 0.8175\n",
      "Epoch 56/100\n",
      "750/750 [==============================] - 1s 1ms/step - loss: 0.4265 - accuracy: 0.8181\n",
      "Epoch 57/100\n",
      "750/750 [==============================] - 1s 928us/step - loss: 0.4287 - accuracy: 0.8193\n",
      "Epoch 58/100\n",
      "750/750 [==============================] - 1s 926us/step - loss: 0.4268 - accuracy: 0.8235\n",
      "Epoch 59/100\n",
      "750/750 [==============================] - 1s 925us/step - loss: 0.4326 - accuracy: 0.8189\n",
      "Epoch 60/100\n",
      "750/750 [==============================] - 1s 924us/step - loss: 0.4368 - accuracy: 0.8170\n",
      "Epoch 61/100\n",
      "750/750 [==============================] - 1s 973us/step - loss: 0.4338 - accuracy: 0.8162\n",
      "Epoch 62/100\n",
      "750/750 [==============================] - 1s 1ms/step - loss: 0.4317 - accuracy: 0.8191\n",
      "Epoch 63/100\n",
      "750/750 [==============================] - 1s 1ms/step - loss: 0.4274 - accuracy: 0.8193\n",
      "Epoch 64/100\n",
      "750/750 [==============================] - 1s 920us/step - loss: 0.4303 - accuracy: 0.8191\n",
      "Epoch 65/100\n",
      "750/750 [==============================] - 1s 925us/step - loss: 0.4316 - accuracy: 0.8204\n",
      "Epoch 66/100\n",
      "750/750 [==============================] - 1s 1ms/step - loss: 0.4285 - accuracy: 0.8190\n",
      "Epoch 67/100\n",
      "750/750 [==============================] - 1s 909us/step - loss: 0.4361 - accuracy: 0.8158\n",
      "Epoch 68/100\n",
      "750/750 [==============================] - 1s 939us/step - loss: 0.4330 - accuracy: 0.8176\n",
      "Epoch 69/100\n",
      "750/750 [==============================] - 1s 921us/step - loss: 0.4312 - accuracy: 0.8187\n",
      "Epoch 70/100\n",
      "750/750 [==============================] - 1s 925us/step - loss: 0.4276 - accuracy: 0.8212\n",
      "Epoch 71/100\n",
      "750/750 [==============================] - 1s 932us/step - loss: 0.4341 - accuracy: 0.8187\n",
      "Epoch 72/100\n",
      "750/750 [==============================] - 1s 936us/step - loss: 0.4323 - accuracy: 0.8188\n",
      "Epoch 73/100\n",
      "750/750 [==============================] - 1s 1ms/step - loss: 0.4233 - accuracy: 0.8229\n",
      "Epoch 74/100\n",
      "750/750 [==============================] - 1s 1ms/step - loss: 0.4290 - accuracy: 0.8205\n",
      "Epoch 75/100\n",
      "750/750 [==============================] - 1s 1ms/step - loss: 0.4306 - accuracy: 0.8208\n",
      "Epoch 76/100\n",
      "750/750 [==============================] - 1s 1ms/step - loss: 0.4243 - accuracy: 0.8222\n",
      "Epoch 77/100\n",
      "750/750 [==============================] - 1s 1ms/step - loss: 0.4269 - accuracy: 0.8197\n",
      "Epoch 78/100\n",
      "750/750 [==============================] - 1s 1ms/step - loss: 0.4270 - accuracy: 0.8205\n",
      "Epoch 79/100\n"
     ]
    },
    {
     "name": "stdout",
     "output_type": "stream",
     "text": [
      "750/750 [==============================] - 1s 883us/step - loss: 0.4310 - accuracy: 0.8203\n",
      "Epoch 80/100\n",
      "750/750 [==============================] - 1s 901us/step - loss: 0.4328 - accuracy: 0.8181\n",
      "Epoch 81/100\n",
      "750/750 [==============================] - 1s 863us/step - loss: 0.4286 - accuracy: 0.8209\n",
      "Epoch 82/100\n",
      "750/750 [==============================] - 1s 907us/step - loss: 0.4279 - accuracy: 0.8213\n",
      "Epoch 83/100\n",
      "750/750 [==============================] - 1s 893us/step - loss: 0.4257 - accuracy: 0.8219\n",
      "Epoch 84/100\n",
      "750/750 [==============================] - 1s 884us/step - loss: 0.4314 - accuracy: 0.8185\n",
      "Epoch 85/100\n",
      "750/750 [==============================] - 1s 897us/step - loss: 0.4287 - accuracy: 0.8205\n",
      "Epoch 86/100\n",
      "750/750 [==============================] - 1s 897us/step - loss: 0.4290 - accuracy: 0.8192\n",
      "Epoch 87/100\n",
      "750/750 [==============================] - 1s 927us/step - loss: 0.4256 - accuracy: 0.8228\n",
      "Epoch 88/100\n",
      "750/750 [==============================] - 1s 907us/step - loss: 0.4263 - accuracy: 0.8206\n",
      "Epoch 89/100\n",
      "750/750 [==============================] - 1s 924us/step - loss: 0.4176 - accuracy: 0.8268\n",
      "Epoch 90/100\n",
      "750/750 [==============================] - 1s 895us/step - loss: 0.4270 - accuracy: 0.8201\n",
      "Epoch 91/100\n",
      "750/750 [==============================] - 1s 903us/step - loss: 0.4198 - accuracy: 0.8249\n",
      "Epoch 92/100\n",
      "750/750 [==============================] - 1s 908us/step - loss: 0.4308 - accuracy: 0.8191\n",
      "Epoch 93/100\n",
      "750/750 [==============================] - 1s 888us/step - loss: 0.4287 - accuracy: 0.8200\n",
      "Epoch 94/100\n",
      "750/750 [==============================] - 1s 1ms/step - loss: 0.4306 - accuracy: 0.8163\n",
      "Epoch 95/100\n",
      "750/750 [==============================] - 1s 1ms/step - loss: 0.4258 - accuracy: 0.8214\n",
      "Epoch 96/100\n",
      "750/750 [==============================] - 1s 1ms/step - loss: 0.4228 - accuracy: 0.8220\n",
      "Epoch 97/100\n",
      "750/750 [==============================] - 1s 924us/step - loss: 0.4211 - accuracy: 0.8255\n",
      "Epoch 98/100\n",
      "750/750 [==============================] - 1s 915us/step - loss: 0.4281 - accuracy: 0.8214\n",
      "Epoch 99/100\n",
      "750/750 [==============================] - 1s 908us/step - loss: 0.4293 - accuracy: 0.8173\n",
      "Epoch 100/100\n",
      "750/750 [==============================] - 1s 885us/step - loss: 0.4261 - accuracy: 0.8234\n"
     ]
    },
    {
     "data": {
      "text/plain": [
       "<tensorflow.python.keras.callbacks.History at 0x1e7d0fa08e0>"
      ]
     },
     "execution_count": 14,
     "metadata": {},
     "output_type": "execute_result"
    }
   ],
   "source": [
    "ann.fit(X_train, y_train, batch_size = 32, epochs = 100)"
   ]
  },
  {
   "cell_type": "code",
   "execution_count": 17,
   "metadata": {},
   "outputs": [
    {
     "name": "stdout",
     "output_type": "stream",
     "text": [
      "[[1.]\n",
      " [1.]\n",
      " [1.]\n",
      " ...\n",
      " [0.]\n",
      " [1.]\n",
      " [1.]]\n"
     ]
    }
   ],
   "source": [
    "pred = ann.predict(X)\n",
    "print(pred)"
   ]
  },
  {
   "cell_type": "code",
   "execution_count": 18,
   "metadata": {},
   "outputs": [
    {
     "name": "stdout",
     "output_type": "stream",
     "text": [
      "[[ True]\n",
      " [ True]\n",
      " [ True]\n",
      " ...\n",
      " [False]\n",
      " [ True]\n",
      " [ True]]\n"
     ]
    }
   ],
   "source": [
    "print(pred > 0.5)  "
   ]
  },
  {
   "cell_type": "code",
   "execution_count": 19,
   "metadata": {},
   "outputs": [
    {
     "name": "stdout",
     "output_type": "stream",
     "text": [
      "[[0 0]\n",
      " [0 0]\n",
      " [0 0]\n",
      " ...\n",
      " [0 1]\n",
      " [0 0]\n",
      " [0 0]]\n"
     ]
    }
   ],
   "source": [
    "y_pred = ann.predict(X_test)\n",
    "y_pred = (y_pred > 0.5)\n",
    "print(np.concatenate((y_pred.reshape(len(y_pred),1), y_test.reshape(len(y_test),1)),1))"
   ]
  },
  {
   "cell_type": "code",
   "execution_count": 20,
   "metadata": {},
   "outputs": [
    {
     "name": "stdout",
     "output_type": "stream",
     "text": [
      "[[4657   46]\n",
      " [1153  144]]\n"
     ]
    },
    {
     "data": {
      "text/plain": [
       "0.8001666666666667"
      ]
     },
     "execution_count": 20,
     "metadata": {},
     "output_type": "execute_result"
    }
   ],
   "source": [
    "from sklearn.metrics import confusion_matrix, accuracy_score\n",
    "cm = confusion_matrix(y_test, y_pred)\n",
    "print(cm)\n",
    "accuracy_score(y_test, y_pred)"
   ]
  },
  {
   "cell_type": "code",
   "execution_count": null,
   "metadata": {},
   "outputs": [],
   "source": []
  }
 ],
 "metadata": {
  "kernelspec": {
   "display_name": "Python 3",
   "language": "python",
   "name": "python3"
  },
  "language_info": {
   "codemirror_mode": {
    "name": "ipython",
    "version": 3
   },
   "file_extension": ".py",
   "mimetype": "text/x-python",
   "name": "python",
   "nbconvert_exporter": "python",
   "pygments_lexer": "ipython3",
   "version": "3.8.5"
  }
 },
 "nbformat": 4,
 "nbformat_minor": 4
}
